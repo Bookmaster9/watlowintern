{
 "cells": [
  {
   "cell_type": "code",
   "execution_count": 10,
   "id": "11e12ff8",
   "metadata": {},
   "outputs": [],
   "source": [
    "import pandas as pd\n",
    "import datetime"
   ]
  },
  {
   "cell_type": "code",
   "execution_count": 3,
   "id": "7014a168",
   "metadata": {},
   "outputs": [
    {
     "data": {
      "text/plain": [
       "Index(['Unnamed: 0', 'Time', '101 <A LV Input> (VAC)',\n",
       "       '102 <A HV Input> (VAC)', '103 <HTR1 Current> (AAC)',\n",
       "       '104 <HTR1 Leakage> (MA)', '208 <Htr1 sn side 10 in> (C)',\n",
       "       '209 <Htr1 sn side 5 in> (C)', '210 <Htr1 center> (C)',\n",
       "       '211 <Htr1 5 in> (C)', '212 <Htr1 10 in> (C)', '901 <A HV Out> (VAC)',\n",
       "       '902 <A LV Out> (VAC)', '903 <Htr1 Power> (WAT)', 'Sequence Number',\n",
       "       'Status', 'Cycles_survived', 'Cycles_until_failure', 'Operation_time',\n",
       "       'Time_until_failure', 'delta_HV', 'delta_LV', 'averagetemps'],\n",
       "      dtype='object')"
      ]
     },
     "execution_count": 3,
     "metadata": {},
     "output_type": "execute_result"
    }
   ],
   "source": [
    "df = pd.read_csv(\"C:\\\\allcolumnsadded\\\\heater_1.csv\")\n",
    "df.columns"
   ]
  },
  {
   "cell_type": "code",
   "execution_count": 24,
   "id": "2a86e332",
   "metadata": {},
   "outputs": [],
   "source": [
    "columnheaders = ['Unnamed', 'Time', 'LV Input (VAC)',\n",
    "       'HV Input (VAC)', 'Current (AAC)',\n",
    "       'Leakage (MA)', 'sn side 10 in (C)',\n",
    "       'sn side 5 in (C)', 'center (C)',\n",
    "       'side 5 in (C)', 'side 10 in (C)', 'HV Out (VAC)',\n",
    "       'LV Out (VAC)', 'Power (WAT)', 'Sequencenumber',\n",
    "       'Status', 'Cycles_survived', 'Cycles_until_failure', 'Operation_time',\n",
    "       'Time_until_failure', 'delta_HV', 'delta_LV', 'averagetemps']\n",
    "a = pd.read_csv(\"C:\\\\allcolumnsadded\\\\heater_1.csv\")\n",
    "a.columns.values[:] = columnheaders\n",
    "sequencenumbers = ['sn1002','sn1003','sn2002','sn2003','sn3002','sn3003','sn5002','sn6002']\n",
    "a = a.loc[a['Sequencenumber'].isin(sequencenumbers)]\n",
    "for i in range(2,7):\n",
    "    if i ==4:\n",
    "        continue\n",
    "    name = \"C:\\\\allcolumnsadded\\\\heater_\" + str(i) + \".csv\"\n",
    "    b = pd.read_csv(name)\n",
    "    b.columns.values[:] =columnheaders\n",
    "    df1 = b.loc[b['Sequencenumber'].isin(sequencenumbers)]\n",
    "    a = pd.concat([a, df1], ignore_index=True)\n",
    "outputname = \"C:\\\\allcolumnsadded\\\\final.csv\"\n",
    "a.to_csv(outputname, index = False)"
   ]
  },
  {
   "cell_type": "code",
   "execution_count": 22,
   "id": "f672f7da",
   "metadata": {},
   "outputs": [],
   "source": [
    "from datetime import timedelta, datetime\n",
    "def operationtime(dataset):\n",
    "    \n",
    "    # Setup the dataset and extra lists\n",
    "    times = dataset['Time']\n",
    "    df = pd.DataFrame({'Time':times})\n",
    "    time1 = pd.to_datetime(df['Time'])\n",
    "    threshhold = datetime.strptime(\"2021/01/01 10:46:00\", \"%Y/%m/%d %H:%M:%S\") - datetime.strptime(\"2021/01/01 10:44:00\", \"%Y/%m/%d %H:%M:%S\")\n",
    "    status = dataset['Status']\n",
    "    operationtime = [time1[1]-time1[0]]\n",
    "    \n",
    "    #Add operationtime\n",
    "    temp = time1[0]-time1[0]\n",
    "    mostrecentworking = time1[0]\n",
    "    for i in range(1,len(time1)):\n",
    "        if status[i] == 'working':\n",
    "            if status[i-1] == 'failed':\n",
    "                temp = time1[0] - time1[0]\n",
    "            delta = time1[i]-time1[i-1]\n",
    "            if(delta<threshhold):\n",
    "                temp = temp + delta\n",
    "            operationtime.append(temp)\n",
    "            mostrecentworking = temp\n",
    "        else:\n",
    "            operationtime.append(mostrecentworking)\n",
    "    dataset[\"Operation_time\"] = operationtime\n",
    "    \n",
    "    #Add Time until failure\n",
    "    failuretime = []\n",
    "    a = dataset['Time']\n",
    "    b = dataset['Status']\n",
    "    previousfail = 0\n",
    "    time_until_failure = []\n",
    "    for i in range(1, len(b)):\n",
    "        if b[i]=='failed' and b[i-1] == 'working':\n",
    "            for j in range(i-previousfail):\n",
    "                time_until_failure.append((datetime.strptime(a[i-1],\"%Y-%m-%d %H:%M:%S.%f\")-datetime.strptime(a[j+previousfail],\"%Y-%m-%d %H:%M:%S.%f\")).total_seconds())\n",
    "            time_until_failure.append((time1[0]-time1[0]).total_seconds())    \n",
    "        elif b[i]=='failed':\n",
    "            time_until_failure.append((time1[0]-time1[0]).total_seconds())\n",
    "        elif b[i]=='working' and b[i-1] == 'failed':\n",
    "            previousfail = i\n",
    "        else:\n",
    "            continue\n",
    "    while len(time_until_failure) < len(a):\n",
    "        time_until_failure.append(0)\n",
    "    dataset[\"OperationTime_until_failure\"] = time_until_failure"
   ]
  },
  {
   "cell_type": "code",
   "execution_count": 23,
   "id": "424288e7",
   "metadata": {},
   "outputs": [],
   "source": [
    "df = pd.read_csv(\"C:\\\\allcolumnsadded\\\\final.csv\")\n",
    "operationtime(df)\n",
    "df = df[['LV Input (VAC)', 'HV Input (VAC)',\n",
    "       'Current (AAC)', 'Leakage (MA)', 'sn side 10 in (C)',\n",
    "       'sn side 5 in (C)', 'center (C)', 'side 5 in (C)',\n",
    "       'side 10 in (C)', 'HV Out (VAC)', 'LV Out (VAC)', 'Power (WAT)', 'Status', 'averagetemps', 'OperationTime_until_failure']]\n",
    "df.head()\n",
    "df.loc[df['Status'] == 'working', 'Status'] = 0\n",
    "df.loc[df['Status'] == 'failed', 'Status'] = 1"
   ]
  },
  {
   "cell_type": "code",
   "execution_count": 24,
   "id": "43912677",
   "metadata": {},
   "outputs": [],
   "source": [
    "df.to_csv(\"C:\\\\allcolumnsadded\\\\fullyprocessedv2.csv\", index = False)"
   ]
  },
  {
   "cell_type": "code",
   "execution_count": null,
   "id": "36648bbb",
   "metadata": {},
   "outputs": [],
   "source": []
  }
 ],
 "metadata": {
  "kernelspec": {
   "display_name": "Python 3 (ipykernel)",
   "language": "python",
   "name": "python3"
  },
  "language_info": {
   "codemirror_mode": {
    "name": "ipython",
    "version": 3
   },
   "file_extension": ".py",
   "mimetype": "text/x-python",
   "name": "python",
   "nbconvert_exporter": "python",
   "pygments_lexer": "ipython3",
   "version": "3.9.12"
  }
 },
 "nbformat": 4,
 "nbformat_minor": 5
}
