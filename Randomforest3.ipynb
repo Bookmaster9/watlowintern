{
  "nbformat": 4,
  "nbformat_minor": 0,
  "metadata": {
    "colab": {
      "name": "Copy of Randomforest2.ipynb",
      "provenance": [],
      "collapsed_sections": [],
      "mount_file_id": "1XehOmaOv9-ugJLzRwycfpuOFBojRiy0P",
      "authorship_tag": "ABX9TyO7SfTA8ZAy/wTKU5G33NX5",
      "include_colab_link": true
    },
    "kernelspec": {
      "name": "python3",
      "display_name": "Python 3"
    },
    "language_info": {
      "name": "python"
    },
    "gpuClass": "standard"
  },
  "cells": [
    {
      "cell_type": "markdown",
      "metadata": {
        "id": "view-in-github",
        "colab_type": "text"
      },
      "source": [
        "<a href=\"https://colab.research.google.com/github/Bookmaster9/watlowintern/blob/RandomForest/Randomforest3.ipynb\" target=\"_parent\"><img src=\"https://colab.research.google.com/assets/colab-badge.svg\" alt=\"Open In Colab\"/></a>"
      ]
    },
    {
      "cell_type": "code",
      "execution_count": null,
      "metadata": {
        "id": "GODbdLezOLJH",
        "outputId": "8638121c-7180-40fc-a8bb-6a13842a4f1b",
        "colab": {
          "base_uri": "https://localhost:8080/"
        }
      },
      "outputs": [
        {
          "output_type": "stream",
          "name": "stdout",
          "text": [
            "Drive already mounted at /content/gdrive; to attempt to forcibly remount, call drive.mount(\"/content/gdrive\", force_remount=True).\n"
          ]
        }
      ],
      "source": [
        "# Importing the libraries\n",
        "import numpy as np\n",
        "import matplotlib.pyplot as plt\n",
        "import pandas as pd\n",
        "from google.colab import drive\n",
        "drive.mount('/content/gdrive')"
      ]
    },
    {
      "cell_type": "code",
      "source": [
        "data = pd.read_csv('/content/gdrive/MyDrive/fullyprocessedv2.csv')\n",
        "data.head()"
      ],
      "metadata": {
        "colab": {
          "base_uri": "https://localhost:8080/",
          "height": 267
        },
        "id": "91r1St3yQR5G",
        "outputId": "f2f86dfa-bed7-4f82-a734-4e69d2100e1c"
      },
      "execution_count": null,
      "outputs": [
        {
          "output_type": "execute_result",
          "data": {
            "text/plain": [
              "   LV Input (VAC)  HV Input (VAC)  Current (AAC)  Leakage (MA)  \\\n",
              "0        0.140338         1.67805      -0.003939      0.032422   \n",
              "1        0.137785         1.67549      -0.003914      0.032295   \n",
              "2        0.140338         1.67677      -0.003914      0.032487   \n",
              "3        0.136508         1.67677      -0.003914      0.032422   \n",
              "4        0.136508         1.67549      -0.003965      0.032487   \n",
              "\n",
              "   sn side 10 in (C)  sn side 5 in (C)  center (C)  side 5 in (C)  \\\n",
              "0             22.023            22.012     531.098         22.124   \n",
              "1             22.007            22.012     311.510         22.105   \n",
              "2             22.006            22.001     536.150         22.110   \n",
              "3             22.006            21.975     646.558         22.107   \n",
              "4             22.018            21.994     838.220         22.122   \n",
              "\n",
              "   side 10 in (C)  HV Out (VAC)  LV Out (VAC)  Power (WAT)  Status  \\\n",
              "0          22.109     25.053286      0.138795    -0.000547       0   \n",
              "1          22.140     25.015066      0.136269    -0.000533       0   \n",
              "2          22.113     25.034176      0.138795    -0.000543       0   \n",
              "3          22.129     25.034176      0.135006    -0.000528       0   \n",
              "4          22.113     25.015066      0.135006    -0.000535       0   \n",
              "\n",
              "   averagetemps  OperationTime_until_failure  \n",
              "0      123.8732                  4778599.985  \n",
              "1       79.9548                  4778595.985  \n",
              "2      124.8760                  4778571.985  \n",
              "3      146.9550                  4778567.985  \n",
              "4      185.2934                  4778563.985  "
            ],
            "text/html": [
              "\n",
              "  <div id=\"df-69942bd3-1f72-43c7-80cb-452acba34b6e\">\n",
              "    <div class=\"colab-df-container\">\n",
              "      <div>\n",
              "<style scoped>\n",
              "    .dataframe tbody tr th:only-of-type {\n",
              "        vertical-align: middle;\n",
              "    }\n",
              "\n",
              "    .dataframe tbody tr th {\n",
              "        vertical-align: top;\n",
              "    }\n",
              "\n",
              "    .dataframe thead th {\n",
              "        text-align: right;\n",
              "    }\n",
              "</style>\n",
              "<table border=\"1\" class=\"dataframe\">\n",
              "  <thead>\n",
              "    <tr style=\"text-align: right;\">\n",
              "      <th></th>\n",
              "      <th>LV Input (VAC)</th>\n",
              "      <th>HV Input (VAC)</th>\n",
              "      <th>Current (AAC)</th>\n",
              "      <th>Leakage (MA)</th>\n",
              "      <th>sn side 10 in (C)</th>\n",
              "      <th>sn side 5 in (C)</th>\n",
              "      <th>center (C)</th>\n",
              "      <th>side 5 in (C)</th>\n",
              "      <th>side 10 in (C)</th>\n",
              "      <th>HV Out (VAC)</th>\n",
              "      <th>LV Out (VAC)</th>\n",
              "      <th>Power (WAT)</th>\n",
              "      <th>Status</th>\n",
              "      <th>averagetemps</th>\n",
              "      <th>OperationTime_until_failure</th>\n",
              "    </tr>\n",
              "  </thead>\n",
              "  <tbody>\n",
              "    <tr>\n",
              "      <th>0</th>\n",
              "      <td>0.140338</td>\n",
              "      <td>1.67805</td>\n",
              "      <td>-0.003939</td>\n",
              "      <td>0.032422</td>\n",
              "      <td>22.023</td>\n",
              "      <td>22.012</td>\n",
              "      <td>531.098</td>\n",
              "      <td>22.124</td>\n",
              "      <td>22.109</td>\n",
              "      <td>25.053286</td>\n",
              "      <td>0.138795</td>\n",
              "      <td>-0.000547</td>\n",
              "      <td>0</td>\n",
              "      <td>123.8732</td>\n",
              "      <td>4778599.985</td>\n",
              "    </tr>\n",
              "    <tr>\n",
              "      <th>1</th>\n",
              "      <td>0.137785</td>\n",
              "      <td>1.67549</td>\n",
              "      <td>-0.003914</td>\n",
              "      <td>0.032295</td>\n",
              "      <td>22.007</td>\n",
              "      <td>22.012</td>\n",
              "      <td>311.510</td>\n",
              "      <td>22.105</td>\n",
              "      <td>22.140</td>\n",
              "      <td>25.015066</td>\n",
              "      <td>0.136269</td>\n",
              "      <td>-0.000533</td>\n",
              "      <td>0</td>\n",
              "      <td>79.9548</td>\n",
              "      <td>4778595.985</td>\n",
              "    </tr>\n",
              "    <tr>\n",
              "      <th>2</th>\n",
              "      <td>0.140338</td>\n",
              "      <td>1.67677</td>\n",
              "      <td>-0.003914</td>\n",
              "      <td>0.032487</td>\n",
              "      <td>22.006</td>\n",
              "      <td>22.001</td>\n",
              "      <td>536.150</td>\n",
              "      <td>22.110</td>\n",
              "      <td>22.113</td>\n",
              "      <td>25.034176</td>\n",
              "      <td>0.138795</td>\n",
              "      <td>-0.000543</td>\n",
              "      <td>0</td>\n",
              "      <td>124.8760</td>\n",
              "      <td>4778571.985</td>\n",
              "    </tr>\n",
              "    <tr>\n",
              "      <th>3</th>\n",
              "      <td>0.136508</td>\n",
              "      <td>1.67677</td>\n",
              "      <td>-0.003914</td>\n",
              "      <td>0.032422</td>\n",
              "      <td>22.006</td>\n",
              "      <td>21.975</td>\n",
              "      <td>646.558</td>\n",
              "      <td>22.107</td>\n",
              "      <td>22.129</td>\n",
              "      <td>25.034176</td>\n",
              "      <td>0.135006</td>\n",
              "      <td>-0.000528</td>\n",
              "      <td>0</td>\n",
              "      <td>146.9550</td>\n",
              "      <td>4778567.985</td>\n",
              "    </tr>\n",
              "    <tr>\n",
              "      <th>4</th>\n",
              "      <td>0.136508</td>\n",
              "      <td>1.67549</td>\n",
              "      <td>-0.003965</td>\n",
              "      <td>0.032487</td>\n",
              "      <td>22.018</td>\n",
              "      <td>21.994</td>\n",
              "      <td>838.220</td>\n",
              "      <td>22.122</td>\n",
              "      <td>22.113</td>\n",
              "      <td>25.015066</td>\n",
              "      <td>0.135006</td>\n",
              "      <td>-0.000535</td>\n",
              "      <td>0</td>\n",
              "      <td>185.2934</td>\n",
              "      <td>4778563.985</td>\n",
              "    </tr>\n",
              "  </tbody>\n",
              "</table>\n",
              "</div>\n",
              "      <button class=\"colab-df-convert\" onclick=\"convertToInteractive('df-69942bd3-1f72-43c7-80cb-452acba34b6e')\"\n",
              "              title=\"Convert this dataframe to an interactive table.\"\n",
              "              style=\"display:none;\">\n",
              "        \n",
              "  <svg xmlns=\"http://www.w3.org/2000/svg\" height=\"24px\"viewBox=\"0 0 24 24\"\n",
              "       width=\"24px\">\n",
              "    <path d=\"M0 0h24v24H0V0z\" fill=\"none\"/>\n",
              "    <path d=\"M18.56 5.44l.94 2.06.94-2.06 2.06-.94-2.06-.94-.94-2.06-.94 2.06-2.06.94zm-11 1L8.5 8.5l.94-2.06 2.06-.94-2.06-.94L8.5 2.5l-.94 2.06-2.06.94zm10 10l.94 2.06.94-2.06 2.06-.94-2.06-.94-.94-2.06-.94 2.06-2.06.94z\"/><path d=\"M17.41 7.96l-1.37-1.37c-.4-.4-.92-.59-1.43-.59-.52 0-1.04.2-1.43.59L10.3 9.45l-7.72 7.72c-.78.78-.78 2.05 0 2.83L4 21.41c.39.39.9.59 1.41.59.51 0 1.02-.2 1.41-.59l7.78-7.78 2.81-2.81c.8-.78.8-2.07 0-2.86zM5.41 20L4 18.59l7.72-7.72 1.47 1.35L5.41 20z\"/>\n",
              "  </svg>\n",
              "      </button>\n",
              "      \n",
              "  <style>\n",
              "    .colab-df-container {\n",
              "      display:flex;\n",
              "      flex-wrap:wrap;\n",
              "      gap: 12px;\n",
              "    }\n",
              "\n",
              "    .colab-df-convert {\n",
              "      background-color: #E8F0FE;\n",
              "      border: none;\n",
              "      border-radius: 50%;\n",
              "      cursor: pointer;\n",
              "      display: none;\n",
              "      fill: #1967D2;\n",
              "      height: 32px;\n",
              "      padding: 0 0 0 0;\n",
              "      width: 32px;\n",
              "    }\n",
              "\n",
              "    .colab-df-convert:hover {\n",
              "      background-color: #E2EBFA;\n",
              "      box-shadow: 0px 1px 2px rgba(60, 64, 67, 0.3), 0px 1px 3px 1px rgba(60, 64, 67, 0.15);\n",
              "      fill: #174EA6;\n",
              "    }\n",
              "\n",
              "    [theme=dark] .colab-df-convert {\n",
              "      background-color: #3B4455;\n",
              "      fill: #D2E3FC;\n",
              "    }\n",
              "\n",
              "    [theme=dark] .colab-df-convert:hover {\n",
              "      background-color: #434B5C;\n",
              "      box-shadow: 0px 1px 3px 1px rgba(0, 0, 0, 0.15);\n",
              "      filter: drop-shadow(0px 1px 2px rgba(0, 0, 0, 0.3));\n",
              "      fill: #FFFFFF;\n",
              "    }\n",
              "  </style>\n",
              "\n",
              "      <script>\n",
              "        const buttonEl =\n",
              "          document.querySelector('#df-69942bd3-1f72-43c7-80cb-452acba34b6e button.colab-df-convert');\n",
              "        buttonEl.style.display =\n",
              "          google.colab.kernel.accessAllowed ? 'block' : 'none';\n",
              "\n",
              "        async function convertToInteractive(key) {\n",
              "          const element = document.querySelector('#df-69942bd3-1f72-43c7-80cb-452acba34b6e');\n",
              "          const dataTable =\n",
              "            await google.colab.kernel.invokeFunction('convertToInteractive',\n",
              "                                                     [key], {});\n",
              "          if (!dataTable) return;\n",
              "\n",
              "          const docLinkHtml = 'Like what you see? Visit the ' +\n",
              "            '<a target=\"_blank\" href=https://colab.research.google.com/notebooks/data_table.ipynb>data table notebook</a>'\n",
              "            + ' to learn more about interactive tables.';\n",
              "          element.innerHTML = '';\n",
              "          dataTable['output_type'] = 'display_data';\n",
              "          await google.colab.output.renderOutput(dataTable, element);\n",
              "          const docLink = document.createElement('div');\n",
              "          docLink.innerHTML = docLinkHtml;\n",
              "          element.appendChild(docLink);\n",
              "        }\n",
              "      </script>\n",
              "    </div>\n",
              "  </div>\n",
              "  "
            ]
          },
          "metadata": {},
          "execution_count": 21
        }
      ]
    },
    {
      "cell_type": "code",
      "source": [
        "from sklearn.model_selection import train_test_split\n",
        "import numpy as np\n",
        "\n",
        "labels = np.array(data[\"OperationTime_until_failure\"])\n",
        "for time in labels:\n",
        "    if time == \"0 days 00:00:00\":\n",
        "        time = 0\n",
        "features = np.array(data.iloc[:,:-1])\n",
        "# Split the data into training and testing sets\n",
        "train_features, test_features, train_labels, test_labels = train_test_split(features, labels, test_size = 0.2, random_state = 42)\n",
        "print('Training Features Shape:', train_features.shape)\n",
        "print('Training Labels Shape:', train_labels.shape)\n",
        "print('Testing Features Shape:', test_features.shape)\n",
        "print('Testing Labels Shape:', test_labels.shape)\n",
        "\n",
        "print(train_features[:100])\n",
        "print(train_labels[:100])"
      ],
      "metadata": {
        "colab": {
          "base_uri": "https://localhost:8080/"
        },
        "id": "8x2i7N8xQpGQ",
        "outputId": "3685296b-47e0-4159-d315-ea8e7db72ca2"
      },
      "execution_count": null,
      "outputs": [
        {
          "output_type": "stream",
          "name": "stdout",
          "text": [
            "Training Features Shape: (1676351, 14)\n",
            "Training Labels Shape: (1676351,)\n",
            "Testing Features Shape: (419088, 14)\n",
            "Testing Labels Shape: (419088,)\n",
            "[[ 3.57921420e+02  3.74652540e+02  5.44229260e+00 ...  1.92648605e+03\n",
            "   0.00000000e+00  5.24481800e+02]\n",
            " [ 1.39061470e-01  1.62817000e+00 -1.22272000e-02 ... -1.68162875e-03\n",
            "   0.00000000e+00  2.13562000e+01]\n",
            " [ 3.58690740e+02  3.70035340e+02  5.46705480e+00 ...  1.93941113e+03\n",
            "   0.00000000e+00  5.65795600e+02]\n",
            " ...\n",
            " [ 3.58195720e+02  3.69001910e+02  5.42858160e+00 ...  1.92310525e+03\n",
            "   0.00000000e+00  4.97011000e+02]\n",
            " [ 1.51690000e-02  6.87465000e-02  2.23440000e+01 ...  1.21323796e-02\n",
            "   0.00000000e+00  2.22720000e+01]\n",
            " [ 3.58726460e+02  3.71298990e+02  5.48938620e+00 ...  1.94752701e+03\n",
            "   0.00000000e+00  5.04642200e+02]]\n",
            "[1530755.046  285047.055 2134488.949 1394858.001  645797.055 1661518.985\n",
            " 1666053.985 1558834.997 2602862.019 2458334.998 4464540.065  245589.08\n",
            " 1372287.997  457559.055 1413315.997 2007649.992   79704.051 1059271.992\n",
            "  278459.003 3250984.065  144201.004  678871.081 2143612.949   32666.006\n",
            "  421365.973  513466.954 1522547.046  181000.029 2435362.998  605117.057\n",
            "  240713.049 1564999.046  909657.956 3508980.997 1416467.997 2477488.05\n",
            " 1197372.005 4409989.013   79700.051 1992241.992 1049864.906 1440820.984\n",
            " 2595792.994  700089.076 1599792.054 2102829.992 1332410.001 1587161.995\n",
            " 1158257.917   42271.996 1995089.992 2508412.05  1372294.001  576379.052\n",
            " 2343340.045  190290.     729922.999  926772.05   627246.936  151602.051\n",
            "  106716.046   98269.079 1098169.917  811270.    3802754.011  723758.999\n",
            "  556246.078  118134.051  412914.076  816153.044 2532132.05  1669109.985\n",
            "  121097.079  357625.973   46381.998 1022872.059  415819.048  489444.973\n",
            " 2889581.044 1803834.045  102335.017  319120.004  320680.998  302358.939\n",
            " 3860662.011  342616.004 3170252.016 2063725.992 1802234.045  396240.04\n",
            "  510554.967 1678258.055 3989460.968 4242403.017  474966.982 1192765.917\n",
            "  173581.049 1323118.001  195081.08  3692848.067]\n"
          ]
        }
      ]
    },
    {
      "cell_type": "code",
      "source": [
        "# Import the model we are using\n",
        "from sklearn.ensemble import RandomForestRegressor\n",
        "# Instantiate model with 1000 decision trees\n",
        "rf = RandomForestRegressor(n_estimators = 20, random_state = 42, verbose = 3)\n",
        "# Train the model on training data\n",
        "rf.fit(train_features, train_labels);"
      ],
      "metadata": {
        "colab": {
          "base_uri": "https://localhost:8080/"
        },
        "id": "dsdWB88LQ0mQ",
        "outputId": "483db046-41e4-42c8-b2bf-111f8521cb3b"
      },
      "execution_count": null,
      "outputs": [
        {
          "output_type": "stream",
          "name": "stderr",
          "text": [
            "[Parallel(n_jobs=1)]: Using backend SequentialBackend with 1 concurrent workers.\n"
          ]
        },
        {
          "output_type": "stream",
          "name": "stdout",
          "text": [
            "building tree 1 of 20\n"
          ]
        },
        {
          "output_type": "stream",
          "name": "stderr",
          "text": [
            "[Parallel(n_jobs=1)]: Done   1 out of   1 | elapsed:   49.8s remaining:    0.0s\n"
          ]
        },
        {
          "output_type": "stream",
          "name": "stdout",
          "text": [
            "building tree 2 of 20\n"
          ]
        },
        {
          "output_type": "stream",
          "name": "stderr",
          "text": [
            "[Parallel(n_jobs=1)]: Done   2 out of   2 | elapsed:  1.6min remaining:    0.0s\n"
          ]
        },
        {
          "output_type": "stream",
          "name": "stdout",
          "text": [
            "building tree 3 of 20\n",
            "building tree 4 of 20\n",
            "building tree 5 of 20\n",
            "building tree 6 of 20\n",
            "building tree 7 of 20\n",
            "building tree 8 of 20\n",
            "building tree 9 of 20\n",
            "building tree 10 of 20\n",
            "building tree 11 of 20\n",
            "building tree 12 of 20\n",
            "building tree 13 of 20\n",
            "building tree 14 of 20\n",
            "building tree 15 of 20\n",
            "building tree 16 of 20\n",
            "building tree 17 of 20\n",
            "building tree 18 of 20\n",
            "building tree 19 of 20\n",
            "building tree 20 of 20\n"
          ]
        },
        {
          "output_type": "stream",
          "name": "stderr",
          "text": [
            "[Parallel(n_jobs=1)]: Done  20 out of  20 | elapsed: 16.2min finished\n"
          ]
        }
      ]
    },
    {
      "cell_type": "code",
      "source": [
        "from sklearn.metrics import r2_score\n",
        "predictedvalues = rf.predict(test_features)\n",
        "print(r2_score(test_labels,predictedvalues))"
      ],
      "metadata": {
        "colab": {
          "base_uri": "https://localhost:8080/"
        },
        "id": "bSrbfYRLWSNw",
        "outputId": "e26b5118-0cc9-49e3-808c-ddaaacdf289a"
      },
      "execution_count": null,
      "outputs": [
        {
          "output_type": "stream",
          "name": "stderr",
          "text": [
            "[Parallel(n_jobs=1)]: Using backend SequentialBackend with 1 concurrent workers.\n",
            "[Parallel(n_jobs=1)]: Done   1 out of   1 | elapsed:    0.6s remaining:    0.0s\n",
            "[Parallel(n_jobs=1)]: Done   2 out of   2 | elapsed:    1.2s remaining:    0.0s\n"
          ]
        },
        {
          "output_type": "stream",
          "name": "stdout",
          "text": [
            "0.9937465286112948\n"
          ]
        },
        {
          "output_type": "stream",
          "name": "stderr",
          "text": [
            "[Parallel(n_jobs=1)]: Done  20 out of  20 | elapsed:   10.8s finished\n"
          ]
        }
      ]
    },
    {
      "cell_type": "code",
      "source": [
        "a = pd.DataFrame()\n",
        "a['test_labels'] = test_labels\n",
        "a['pred_labels'] = predictedvalues\n",
        "a.to_csv('/content/gdrive/MyDrive/functionalrandomforest1.csv')"
      ],
      "metadata": {
        "id": "iHRXMx0SoT_F"
      },
      "execution_count": null,
      "outputs": []
    },
    {
      "cell_type": "code",
      "source": [
        "import pickle\n",
        "pickle.dump(rf, open('/content/gdrive/MyDrive/functionalrandomforest1.pkl', 'wb'))"
      ],
      "metadata": {
        "id": "nPpXK-nwq-F3"
      },
      "execution_count": null,
      "outputs": []
    },
    {
      "cell_type": "code",
      "source": [
        "count = 0\n",
        "for i in range(len(test_labels)):\n",
        "  if predictedvalues[i]> (test_labels[i] - 60000) and predictedvalues[i] < (test_labels[i] +60000):\n",
        "    count +=1\n",
        "print(count/len(test_labels))\n"
      ],
      "metadata": {
        "colab": {
          "base_uri": "https://localhost:8080/"
        },
        "id": "rsSsuynfb-3m",
        "outputId": "bd0fbc96-0a07-488d-9fbc-a9bfc2bee23b"
      },
      "execution_count": null,
      "outputs": [
        {
          "output_type": "stream",
          "name": "stdout",
          "text": [
            "0.8461659603710915\n"
          ]
        }
      ]
    },
    {
      "cell_type": "code",
      "source": [
        "import numpy as np\n",
        "  \n",
        "# Given values\n",
        "Y_true = test_labels\n",
        "  \n",
        "# Calculated values\n",
        "Y_pred = predictedvalues\n",
        "  \n",
        "# Mean Squared Error\n",
        "MSE = (np.square(np.subtract(Y_true,Y_pred))).mean()\n",
        "print(MSE)"
      ],
      "metadata": {
        "colab": {
          "base_uri": "https://localhost:8080/"
        },
        "id": "Zb56k4AxWp-4",
        "outputId": "2f406474-14ed-49d2-87df-3fdba9ee5983"
      },
      "execution_count": null,
      "outputs": [
        {
          "output_type": "stream",
          "name": "stdout",
          "text": [
            "8156104785.830019\n"
          ]
        }
      ]
    }
  ]
}