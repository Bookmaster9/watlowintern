{
  "nbformat": 4,
  "nbformat_minor": 0,
  "metadata": {
    "colab": {
      "name": "Randomforest2.ipynb",
      "provenance": [],
      "collapsed_sections": [],
      "mount_file_id": "1XehOmaOv9-ugJLzRwycfpuOFBojRiy0P",
      "authorship_tag": "ABX9TyPayJ2NdDRW7BcSNmvRNrOz",
      "include_colab_link": true
    },
    "kernelspec": {
      "name": "python3",
      "display_name": "Python 3"
    },
    "language_info": {
      "name": "python"
    },
    "gpuClass": "standard"
  },
  "cells": [
    {
      "cell_type": "markdown",
      "metadata": {
        "id": "view-in-github",
        "colab_type": "text"
      },
      "source": [
        "<a href=\"https://colab.research.google.com/github/Bookmaster9/watlowintern/blob/RandomForest/Randomforest4.ipynb\" target=\"_parent\"><img src=\"https://colab.research.google.com/assets/colab-badge.svg\" alt=\"Open In Colab\"/></a>"
      ]
    },
    {
      "cell_type": "code",
      "execution_count": 2,
      "metadata": {
        "id": "GODbdLezOLJH",
        "outputId": "c142f82b-e5e8-4ba2-862a-5427423a273e",
        "colab": {
          "base_uri": "https://localhost:8080/"
        }
      },
      "outputs": [
        {
          "output_type": "stream",
          "name": "stdout",
          "text": [
            "Mounted at /content/gdrive\n"
          ]
        }
      ],
      "source": [
        "# Importing the libraries\n",
        "import numpy as np\n",
        "import matplotlib.pyplot as plt\n",
        "import pandas as pd\n",
        "from google.colab import drive\n",
        "drive.mount('/content/gdrive')"
      ]
    },
    {
      "cell_type": "code",
      "source": [
        "data = pd.read_csv('/content/gdrive/MyDrive/fullyprocessedv2.csv')\n",
        "data.head()"
      ],
      "metadata": {
        "colab": {
          "base_uri": "https://localhost:8080/",
          "height": 267
        },
        "id": "91r1St3yQR5G",
        "outputId": "ed12b5bd-51f3-4cb2-ca56-b220e0978f36"
      },
      "execution_count": 3,
      "outputs": [
        {
          "output_type": "execute_result",
          "data": {
            "text/plain": [
              "   LV Input (VAC)  HV Input (VAC)  Current (AAC)  Leakage (MA)  \\\n",
              "0        0.140338         1.67805      -0.003939      0.032422   \n",
              "1        0.137785         1.67549      -0.003914      0.032295   \n",
              "2        0.140338         1.67677      -0.003914      0.032487   \n",
              "3        0.136508         1.67677      -0.003914      0.032422   \n",
              "4        0.136508         1.67549      -0.003965      0.032487   \n",
              "\n",
              "   sn side 10 in (C)  sn side 5 in (C)  center (C)  side 5 in (C)  \\\n",
              "0             22.023            22.012     531.098         22.124   \n",
              "1             22.007            22.012     311.510         22.105   \n",
              "2             22.006            22.001     536.150         22.110   \n",
              "3             22.006            21.975     646.558         22.107   \n",
              "4             22.018            21.994     838.220         22.122   \n",
              "\n",
              "   side 10 in (C)  HV Out (VAC)  LV Out (VAC)  Power (WAT)  Status  \\\n",
              "0          22.109     25.053286      0.138795    -0.000547       0   \n",
              "1          22.140     25.015066      0.136269    -0.000533       0   \n",
              "2          22.113     25.034176      0.138795    -0.000543       0   \n",
              "3          22.129     25.034176      0.135006    -0.000528       0   \n",
              "4          22.113     25.015066      0.135006    -0.000535       0   \n",
              "\n",
              "   averagetemps  OperationTime_until_failure  \n",
              "0      123.8732                  4778599.985  \n",
              "1       79.9548                  4778595.985  \n",
              "2      124.8760                  4778571.985  \n",
              "3      146.9550                  4778567.985  \n",
              "4      185.2934                  4778563.985  "
            ],
            "text/html": [
              "\n",
              "  <div id=\"df-01efb3b5-2ffa-4de3-b2fb-54ddf09a2e20\">\n",
              "    <div class=\"colab-df-container\">\n",
              "      <div>\n",
              "<style scoped>\n",
              "    .dataframe tbody tr th:only-of-type {\n",
              "        vertical-align: middle;\n",
              "    }\n",
              "\n",
              "    .dataframe tbody tr th {\n",
              "        vertical-align: top;\n",
              "    }\n",
              "\n",
              "    .dataframe thead th {\n",
              "        text-align: right;\n",
              "    }\n",
              "</style>\n",
              "<table border=\"1\" class=\"dataframe\">\n",
              "  <thead>\n",
              "    <tr style=\"text-align: right;\">\n",
              "      <th></th>\n",
              "      <th>LV Input (VAC)</th>\n",
              "      <th>HV Input (VAC)</th>\n",
              "      <th>Current (AAC)</th>\n",
              "      <th>Leakage (MA)</th>\n",
              "      <th>sn side 10 in (C)</th>\n",
              "      <th>sn side 5 in (C)</th>\n",
              "      <th>center (C)</th>\n",
              "      <th>side 5 in (C)</th>\n",
              "      <th>side 10 in (C)</th>\n",
              "      <th>HV Out (VAC)</th>\n",
              "      <th>LV Out (VAC)</th>\n",
              "      <th>Power (WAT)</th>\n",
              "      <th>Status</th>\n",
              "      <th>averagetemps</th>\n",
              "      <th>OperationTime_until_failure</th>\n",
              "    </tr>\n",
              "  </thead>\n",
              "  <tbody>\n",
              "    <tr>\n",
              "      <th>0</th>\n",
              "      <td>0.140338</td>\n",
              "      <td>1.67805</td>\n",
              "      <td>-0.003939</td>\n",
              "      <td>0.032422</td>\n",
              "      <td>22.023</td>\n",
              "      <td>22.012</td>\n",
              "      <td>531.098</td>\n",
              "      <td>22.124</td>\n",
              "      <td>22.109</td>\n",
              "      <td>25.053286</td>\n",
              "      <td>0.138795</td>\n",
              "      <td>-0.000547</td>\n",
              "      <td>0</td>\n",
              "      <td>123.8732</td>\n",
              "      <td>4778599.985</td>\n",
              "    </tr>\n",
              "    <tr>\n",
              "      <th>1</th>\n",
              "      <td>0.137785</td>\n",
              "      <td>1.67549</td>\n",
              "      <td>-0.003914</td>\n",
              "      <td>0.032295</td>\n",
              "      <td>22.007</td>\n",
              "      <td>22.012</td>\n",
              "      <td>311.510</td>\n",
              "      <td>22.105</td>\n",
              "      <td>22.140</td>\n",
              "      <td>25.015066</td>\n",
              "      <td>0.136269</td>\n",
              "      <td>-0.000533</td>\n",
              "      <td>0</td>\n",
              "      <td>79.9548</td>\n",
              "      <td>4778595.985</td>\n",
              "    </tr>\n",
              "    <tr>\n",
              "      <th>2</th>\n",
              "      <td>0.140338</td>\n",
              "      <td>1.67677</td>\n",
              "      <td>-0.003914</td>\n",
              "      <td>0.032487</td>\n",
              "      <td>22.006</td>\n",
              "      <td>22.001</td>\n",
              "      <td>536.150</td>\n",
              "      <td>22.110</td>\n",
              "      <td>22.113</td>\n",
              "      <td>25.034176</td>\n",
              "      <td>0.138795</td>\n",
              "      <td>-0.000543</td>\n",
              "      <td>0</td>\n",
              "      <td>124.8760</td>\n",
              "      <td>4778571.985</td>\n",
              "    </tr>\n",
              "    <tr>\n",
              "      <th>3</th>\n",
              "      <td>0.136508</td>\n",
              "      <td>1.67677</td>\n",
              "      <td>-0.003914</td>\n",
              "      <td>0.032422</td>\n",
              "      <td>22.006</td>\n",
              "      <td>21.975</td>\n",
              "      <td>646.558</td>\n",
              "      <td>22.107</td>\n",
              "      <td>22.129</td>\n",
              "      <td>25.034176</td>\n",
              "      <td>0.135006</td>\n",
              "      <td>-0.000528</td>\n",
              "      <td>0</td>\n",
              "      <td>146.9550</td>\n",
              "      <td>4778567.985</td>\n",
              "    </tr>\n",
              "    <tr>\n",
              "      <th>4</th>\n",
              "      <td>0.136508</td>\n",
              "      <td>1.67549</td>\n",
              "      <td>-0.003965</td>\n",
              "      <td>0.032487</td>\n",
              "      <td>22.018</td>\n",
              "      <td>21.994</td>\n",
              "      <td>838.220</td>\n",
              "      <td>22.122</td>\n",
              "      <td>22.113</td>\n",
              "      <td>25.015066</td>\n",
              "      <td>0.135006</td>\n",
              "      <td>-0.000535</td>\n",
              "      <td>0</td>\n",
              "      <td>185.2934</td>\n",
              "      <td>4778563.985</td>\n",
              "    </tr>\n",
              "  </tbody>\n",
              "</table>\n",
              "</div>\n",
              "      <button class=\"colab-df-convert\" onclick=\"convertToInteractive('df-01efb3b5-2ffa-4de3-b2fb-54ddf09a2e20')\"\n",
              "              title=\"Convert this dataframe to an interactive table.\"\n",
              "              style=\"display:none;\">\n",
              "        \n",
              "  <svg xmlns=\"http://www.w3.org/2000/svg\" height=\"24px\"viewBox=\"0 0 24 24\"\n",
              "       width=\"24px\">\n",
              "    <path d=\"M0 0h24v24H0V0z\" fill=\"none\"/>\n",
              "    <path d=\"M18.56 5.44l.94 2.06.94-2.06 2.06-.94-2.06-.94-.94-2.06-.94 2.06-2.06.94zm-11 1L8.5 8.5l.94-2.06 2.06-.94-2.06-.94L8.5 2.5l-.94 2.06-2.06.94zm10 10l.94 2.06.94-2.06 2.06-.94-2.06-.94-.94-2.06-.94 2.06-2.06.94z\"/><path d=\"M17.41 7.96l-1.37-1.37c-.4-.4-.92-.59-1.43-.59-.52 0-1.04.2-1.43.59L10.3 9.45l-7.72 7.72c-.78.78-.78 2.05 0 2.83L4 21.41c.39.39.9.59 1.41.59.51 0 1.02-.2 1.41-.59l7.78-7.78 2.81-2.81c.8-.78.8-2.07 0-2.86zM5.41 20L4 18.59l7.72-7.72 1.47 1.35L5.41 20z\"/>\n",
              "  </svg>\n",
              "      </button>\n",
              "      \n",
              "  <style>\n",
              "    .colab-df-container {\n",
              "      display:flex;\n",
              "      flex-wrap:wrap;\n",
              "      gap: 12px;\n",
              "    }\n",
              "\n",
              "    .colab-df-convert {\n",
              "      background-color: #E8F0FE;\n",
              "      border: none;\n",
              "      border-radius: 50%;\n",
              "      cursor: pointer;\n",
              "      display: none;\n",
              "      fill: #1967D2;\n",
              "      height: 32px;\n",
              "      padding: 0 0 0 0;\n",
              "      width: 32px;\n",
              "    }\n",
              "\n",
              "    .colab-df-convert:hover {\n",
              "      background-color: #E2EBFA;\n",
              "      box-shadow: 0px 1px 2px rgba(60, 64, 67, 0.3), 0px 1px 3px 1px rgba(60, 64, 67, 0.15);\n",
              "      fill: #174EA6;\n",
              "    }\n",
              "\n",
              "    [theme=dark] .colab-df-convert {\n",
              "      background-color: #3B4455;\n",
              "      fill: #D2E3FC;\n",
              "    }\n",
              "\n",
              "    [theme=dark] .colab-df-convert:hover {\n",
              "      background-color: #434B5C;\n",
              "      box-shadow: 0px 1px 3px 1px rgba(0, 0, 0, 0.15);\n",
              "      filter: drop-shadow(0px 1px 2px rgba(0, 0, 0, 0.3));\n",
              "      fill: #FFFFFF;\n",
              "    }\n",
              "  </style>\n",
              "\n",
              "      <script>\n",
              "        const buttonEl =\n",
              "          document.querySelector('#df-01efb3b5-2ffa-4de3-b2fb-54ddf09a2e20 button.colab-df-convert');\n",
              "        buttonEl.style.display =\n",
              "          google.colab.kernel.accessAllowed ? 'block' : 'none';\n",
              "\n",
              "        async function convertToInteractive(key) {\n",
              "          const element = document.querySelector('#df-01efb3b5-2ffa-4de3-b2fb-54ddf09a2e20');\n",
              "          const dataTable =\n",
              "            await google.colab.kernel.invokeFunction('convertToInteractive',\n",
              "                                                     [key], {});\n",
              "          if (!dataTable) return;\n",
              "\n",
              "          const docLinkHtml = 'Like what you see? Visit the ' +\n",
              "            '<a target=\"_blank\" href=https://colab.research.google.com/notebooks/data_table.ipynb>data table notebook</a>'\n",
              "            + ' to learn more about interactive tables.';\n",
              "          element.innerHTML = '';\n",
              "          dataTable['output_type'] = 'display_data';\n",
              "          await google.colab.output.renderOutput(dataTable, element);\n",
              "          const docLink = document.createElement('div');\n",
              "          docLink.innerHTML = docLinkHtml;\n",
              "          element.appendChild(docLink);\n",
              "        }\n",
              "      </script>\n",
              "    </div>\n",
              "  </div>\n",
              "  "
            ]
          },
          "metadata": {},
          "execution_count": 3
        }
      ]
    },
    {
      "cell_type": "code",
      "source": [
        "from sklearn.model_selection import train_test_split\n",
        "import numpy as np\n",
        "\n",
        "# labels = np.array(data[\"Cycles_until_failure\"])\n",
        "# features = np.array(data.iloc[:,:-1])\n",
        "# Split the data into training and testing sets\n",
        "# train_features, test_features, train_labels, test_labels = train_test_split(features, labels, test_size = 0.2, random_state = 42)\n",
        "# print('Training Features Shape:', train_features.shape)\n",
        "# print('Training Labels Shape:', train_labels.shape)\n",
        "# print('Testing Features Shape:', test_features.shape)\n",
        "# print('Testing Labels Shape:', test_labels.shape)\n",
        "train_dataset = data.iloc[0:1676351]\n",
        "test_dataset = data.drop(train_dataset.index)\n",
        "train_features = train_dataset.copy()\n",
        "test_features = test_dataset.copy()\n",
        "\n",
        "train_labels = train_features.pop('OperationTime_until_failure')\n",
        "test_labels = test_features.pop('OperationTime_until_failure')\n",
        "print('Training Features Shape:', train_features.shape)\n",
        "print('Training Labels Shape:', train_labels.shape)\n",
        "print('Testing Features Shape:', test_features.shape)\n",
        "print('Testing Labels Shape:', test_labels.shape)"
      ],
      "metadata": {
        "colab": {
          "base_uri": "https://localhost:8080/"
        },
        "id": "8x2i7N8xQpGQ",
        "outputId": "dcd68088-f948-40ae-df9b-af1111c93a0a"
      },
      "execution_count": 7,
      "outputs": [
        {
          "output_type": "stream",
          "name": "stdout",
          "text": [
            "Training Features Shape: (1676351, 14)\n",
            "Training Labels Shape: (1676351,)\n",
            "Testing Features Shape: (419088, 14)\n",
            "Testing Labels Shape: (419088,)\n"
          ]
        }
      ]
    },
    {
      "cell_type": "code",
      "source": [
        "# Import the model we are using\n",
        "from sklearn.ensemble import RandomForestRegressor\n",
        "# Instantiate model with 1000 decision trees\n",
        "rf = RandomForestRegressor(n_estimators = 40, random_state = 42, verbose = 3)\n",
        "# Train the model on training data\n",
        "rf.fit(train_features, train_labels);"
      ],
      "metadata": {
        "colab": {
          "base_uri": "https://localhost:8080/"
        },
        "id": "dsdWB88LQ0mQ",
        "outputId": "a4b9b2f4-4892-4c92-f0b3-53ea20216bd1"
      },
      "execution_count": 8,
      "outputs": [
        {
          "output_type": "stream",
          "name": "stderr",
          "text": [
            "[Parallel(n_jobs=1)]: Using backend SequentialBackend with 1 concurrent workers.\n"
          ]
        },
        {
          "output_type": "stream",
          "name": "stdout",
          "text": [
            "building tree 1 of 40\n"
          ]
        },
        {
          "output_type": "stream",
          "name": "stderr",
          "text": [
            "[Parallel(n_jobs=1)]: Done   1 out of   1 | elapsed:   51.8s remaining:    0.0s\n"
          ]
        },
        {
          "output_type": "stream",
          "name": "stdout",
          "text": [
            "building tree 2 of 40\n"
          ]
        },
        {
          "output_type": "stream",
          "name": "stderr",
          "text": [
            "[Parallel(n_jobs=1)]: Done   2 out of   2 | elapsed:  1.6min remaining:    0.0s\n"
          ]
        },
        {
          "output_type": "stream",
          "name": "stdout",
          "text": [
            "building tree 3 of 40\n",
            "building tree 4 of 40\n",
            "building tree 5 of 40\n",
            "building tree 6 of 40\n",
            "building tree 7 of 40\n",
            "building tree 8 of 40\n",
            "building tree 9 of 40\n",
            "building tree 10 of 40\n",
            "building tree 11 of 40\n",
            "building tree 12 of 40\n",
            "building tree 13 of 40\n",
            "building tree 14 of 40\n",
            "building tree 15 of 40\n",
            "building tree 16 of 40\n",
            "building tree 17 of 40\n",
            "building tree 18 of 40\n",
            "building tree 19 of 40\n",
            "building tree 20 of 40\n",
            "building tree 21 of 40\n",
            "building tree 22 of 40\n",
            "building tree 23 of 40\n",
            "building tree 24 of 40\n",
            "building tree 25 of 40\n",
            "building tree 26 of 40\n",
            "building tree 27 of 40\n",
            "building tree 28 of 40\n",
            "building tree 29 of 40\n",
            "building tree 30 of 40\n",
            "building tree 31 of 40\n",
            "building tree 32 of 40\n",
            "building tree 33 of 40\n",
            "building tree 34 of 40\n",
            "building tree 35 of 40\n",
            "building tree 36 of 40\n",
            "building tree 37 of 40\n",
            "building tree 38 of 40\n",
            "building tree 39 of 40\n",
            "building tree 40 of 40\n"
          ]
        },
        {
          "output_type": "stream",
          "name": "stderr",
          "text": [
            "[Parallel(n_jobs=1)]: Done  40 out of  40 | elapsed: 28.6min finished\n"
          ]
        }
      ]
    },
    {
      "cell_type": "code",
      "source": [
        "from sklearn.metrics import r2_score\n",
        "predictedvalues = rf.predict(test_features)\n",
        "print(r2_score(test_labels,predictedvalues))"
      ],
      "metadata": {
        "colab": {
          "base_uri": "https://localhost:8080/"
        },
        "id": "bSrbfYRLWSNw",
        "outputId": "7be5ceec-31ef-403e-f5ce-6b84d15646e1"
      },
      "execution_count": 9,
      "outputs": [
        {
          "output_type": "stream",
          "name": "stderr",
          "text": [
            "[Parallel(n_jobs=1)]: Using backend SequentialBackend with 1 concurrent workers.\n",
            "[Parallel(n_jobs=1)]: Done   1 out of   1 | elapsed:    0.0s remaining:    0.0s\n",
            "[Parallel(n_jobs=1)]: Done   2 out of   2 | elapsed:    0.1s remaining:    0.0s\n"
          ]
        },
        {
          "output_type": "stream",
          "name": "stdout",
          "text": [
            "-0.5478065107534991\n"
          ]
        },
        {
          "output_type": "stream",
          "name": "stderr",
          "text": [
            "[Parallel(n_jobs=1)]: Done  40 out of  40 | elapsed:    1.2s finished\n"
          ]
        }
      ]
    },
    {
      "cell_type": "code",
      "source": [
        "a = pd.DataFrame()\n",
        "a['test_labels'] = test_labels\n",
        "a['pred_labels'] = predictedvalues\n",
        "a.to_csv('/content/gdrive/MyDrive/randomforestpredictions3.csv')"
      ],
      "metadata": {
        "id": "iHRXMx0SoT_F"
      },
      "execution_count": 10,
      "outputs": []
    },
    {
      "cell_type": "code",
      "source": [
        "import pickle\n",
        "pickle.dump(rf, open('/content/gdrive/MyDrive/secondrandomforest.pkl', 'wb'))"
      ],
      "metadata": {
        "id": "nPpXK-nwq-F3"
      },
      "execution_count": null,
      "outputs": []
    },
    {
      "cell_type": "code",
      "source": [
        "df = pd.read_csv(\"/content/gdrive/MyDrive/randomforestpredictions3.csv\")\n",
        "a = df['test_labels']\n",
        "b = df['pred_labels']\n",
        "count = 0\n",
        "for i in range(len(a)):\n",
        "  if b[i]> (a[i] - 60000) and b[i] < (a[i] +60000):\n",
        "    count +=1\n",
        "print(count/len(test_labels))\n"
      ],
      "metadata": {
        "colab": {
          "base_uri": "https://localhost:8080/"
        },
        "id": "rsSsuynfb-3m",
        "outputId": "d049d621-9d50-4fbf-f467-5eca78639326"
      },
      "execution_count": 15,
      "outputs": [
        {
          "output_type": "stream",
          "name": "stdout",
          "text": [
            "0.05600733020272592\n"
          ]
        }
      ]
    },
    {
      "cell_type": "code",
      "source": [
        "import matplotlib.pyplot as plt\n",
        "residuals = []\n",
        "for i in range(len(a)):\n",
        "    residuals.append(b[i]-a[i])\n",
        "plt.hist(residuals, bins=[-500000,-400000,-300000,-200000,-100000,0,100000,200000,300000,400000,500000])\n",
        "plt.title(\"Residuals in an Actual Prediction Environment\")\n",
        "plt.ylabel(\"Frequency\")\n",
        "plt.xlabel(\"Residual\")\n",
        "plt.show()"
      ],
      "metadata": {
        "colab": {
          "base_uri": "https://localhost:8080/",
          "height": 295
        },
        "id": "U_egBRdcAcUO",
        "outputId": "14d460a2-ccec-45cd-a687-fe01fd49213c"
      },
      "execution_count": 19,
      "outputs": [
        {
          "output_type": "display_data",
          "data": {
            "text/plain": [
              "<Figure size 432x288 with 1 Axes>"
            ],
            "image/png": "[encoded data removed]"
          },
          "metadata": {
            "needs_background": "light"
          }
        }
      ]
    },
    {
      "cell_type": "code",
      "source": [
        "import numpy as np\n",
        "  \n",
        "# Given values\n",
        "Y_true = test_labels\n",
        "  \n",
        "# Calculated values\n",
        "Y_pred = predictedvalues\n",
        "  \n",
        "# Mean Squared Error\n",
        "MSE = (np.square(np.subtract(Y_true,Y_pred))).mean()\n",
        "print(MSE)"
      ],
      "metadata": {
        "colab": {
          "base_uri": "https://localhost:8080/"
        },
        "id": "Zb56k4AxWp-4",
        "outputId": "c847f99e-d326-4e44-efa3-d5f4551f5399"
      },
      "execution_count": 14,
      "outputs": [
        {
          "output_type": "stream",
          "name": "stdout",
          "text": [
            "460230003768.1123\n"
          ]
        }
      ]
    }
  ]
}