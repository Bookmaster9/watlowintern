{
  "nbformat": 4,
  "nbformat_minor": 0,
  "metadata": {
    "colab": {
      "name": "deeplearningattemp1.ipynb",
      "provenance": [],
      "collapsed_sections": [],
      "authorship_tag": "ABX9TyMPHMidGq4Lj5FpBRZEIcEo",
      "include_colab_link": true
    },
    "kernelspec": {
      "name": "python3",
      "display_name": "Python 3"
    },
    "language_info": {
      "name": "python"
    },
    "accelerator": "TPU",
    "gpuClass": "standard"
  },
  "cells": [
    {
      "cell_type": "markdown",
      "metadata": {
        "id": "view-in-github",
        "colab_type": "text"
      },
      "source": [
        "<a href=\"https://colab.research.google.com/github/Bookmaster9/watlowintern/blob/DeepLearning/deeplearningattemp1.ipynb\" target=\"_parent\"><img src=\"https://colab.research.google.com/assets/colab-badge.svg\" alt=\"Open In Colab\"/></a>"
      ]
    },
    {
      "cell_type": "code",
      "execution_count": null,
      "metadata": {
        "id": "K58wCjrXekch"
      },
      "outputs": [],
      "source": [
        "# Use seaborn for pairplot.\n",
        "!pip install -q seaborn"
      ]
    },
    {
      "cell_type": "code",
      "source": [
        "import matplotlib.pyplot as plt\n",
        "import numpy as np\n",
        "import pandas as pd\n",
        "import seaborn as sns\n"
      ],
      "metadata": {
        "id": "CaQM_W7ieqbE"
      },
      "execution_count": null,
      "outputs": []
    },
    {
      "cell_type": "code",
      "source": [
        "import tensorflow as tf\n",
        "\n",
        "from tensorflow import keras\n",
        "from tensorflow.keras import layers\n",
        "\n",
        "print(tf.__version__)"
      ],
      "metadata": {
        "colab": {
          "base_uri": "https://localhost:8080/"
        },
        "id": "CsBiZcWTexIQ",
        "outputId": "fb50ce27-1f96-48b7-94c4-ff93513d660d"
      },
      "execution_count": null,
      "outputs": [
        {
          "output_type": "stream",
          "name": "stdout",
          "text": [
            "2.8.2\n"
          ]
        }
      ]
    },
    {
      "cell_type": "code",
      "source": [
        "from sklearn.model_selection import train_test_split\n",
        "import numpy as np\n",
        "from google.colab import drive\n",
        "drive.mount('/content/gdrive')\n",
        "data = pd.read_csv('/content/gdrive/MyDrive/fullyprocessedv2.csv')\n",
        "data.head()\n",
        "labels = np.array(data[\"Cycles_until_failure\"])\n",
        "features = np.array(data.iloc[:,3:4])\n",
        "# Split the data into training and testing sets\n",
        "train_features, test_features, train_labels, test_labels = train_test_split(features, labels, test_size = 0.2, random_state = 42)\n",
        "print('Training Features Shape:', train_features.shape)\n",
        "print('Training Labels Shape:', train_labels.shape)\n",
        "print('Testing Features Shape:', test_features.shape)\n",
        "print('Testing Labels Shape:', test_labels.shape)"
      ],
      "metadata": {
        "colab": {
          "base_uri": "https://localhost:8080/"
        },
        "id": "FMXVoOGUe5cz",
        "outputId": "2caa7f42-9505-455c-9b57-55a1e513eebc"
      },
      "execution_count": null,
      "outputs": [
        {
          "output_type": "stream",
          "name": "stdout",
          "text": [
            "Drive already mounted at /content/gdrive; to attempt to forcibly remount, call drive.mount(\"/content/gdrive\", force_remount=True).\n",
            "Training Features Shape: (1676351, 1)\n",
            "Training Labels Shape: (1676351,)\n",
            "Testing Features Shape: (419088, 1)\n",
            "Testing Labels Shape: (419088,)\n"
          ]
        }
      ]
    },
    {
      "cell_type": "code",
      "source": [
        "train_dataset = data.sample(frac=0.8, random_state=0)\n",
        "test_dataset = data.drop(train_dataset.index)\n",
        "train_dataset.describe().transpose()"
      ],
      "metadata": {
        "colab": {
          "base_uri": "https://localhost:8080/",
          "height": 519
        },
        "id": "9hdjmhm9FYWw",
        "outputId": "c23e1d6a-139e-4ee3-9750-510e325e470a"
      },
      "execution_count": null,
      "outputs": [
        {
          "output_type": "execute_result",
          "data": {
            "text/plain": [
              "                          count          mean           std        min  \\\n",
              "LV Input (VAC)        1676351.0  1.521491e+02  1.751388e+02   0.008032   \n",
              "HV Input (VAC)        1676351.0  2.703055e+02  1.648690e+02  -0.699985   \n",
              "Current (AAC)         1676351.0  6.425959e+02  1.697676e+03 -10.464776   \n",
              "Leakage (MA)          1676351.0  8.191685e+01  1.857786e+02   0.031336   \n",
              "sn side 10 in (C)     1676351.0  9.449095e+32  3.058516e+35   0.002000   \n",
              "sn side 5 in (C)      1676351.0  4.516761e+02  2.034248e+02   0.001000   \n",
              "center (C)            1676351.0  4.750552e+02  2.512750e+02   0.002000   \n",
              "side 5 in (C)         1676351.0  4.485251e+02  2.369901e+02   0.001000   \n",
              "side 10 in (C)        1676351.0  4.613259e+02  2.182318e+02  -0.723645   \n",
              "HV Out (VAC)          1676351.0  3.991439e+03  2.478785e+03 -10.818493   \n",
              "LV Out (VAC)          1676351.0  2.891495e+02  5.325660e+02  -0.114637   \n",
              "Power (WAT)           1676351.0  8.088750e+02  9.650696e+02  -3.770308   \n",
              "Status                1676351.0  1.193068e-05  3.454061e-03   0.000000   \n",
              "averagetemps          1676351.0  1.889819e+32  6.117032e+34  11.640000   \n",
              "Cycles_until_failure  1676351.0  1.257478e+04  1.072131e+04   0.000000   \n",
              "\n",
              "                              25%           50%           75%           max  \n",
              "LV Input (VAC)           0.868823      6.187595    358.768560  3.942105e+02  \n",
              "HV Input (VAC)           2.724280    370.568680    373.072970  4.446040e+02  \n",
              "Current (AAC)            0.016499      5.448534      5.581219  5.642414e+03  \n",
              "Leakage (MA)             1.201815      1.303688      1.804098  7.723680e+02  \n",
              "sn side 10 in (C)      406.346000    444.996000    482.909000  9.900000e+37  \n",
              "sn side 5 in (C)       496.178000    531.617000    564.365000  1.299615e+03  \n",
              "center (C)             363.959500    559.564000    594.924500  1.146392e+03  \n",
              "side 5 in (C)          373.768480    571.442000    602.708000  8.828200e+02  \n",
              "side 10 in (C)         370.974070    568.065000    599.716000  6.713870e+02  \n",
              "HV Out (VAC)            24.423091   5529.191429   5567.382518  6.637937e+03  \n",
              "LV Out (VAC)             0.863054     18.198522    355.133760  2.344658e+03  \n",
              "Power (WAT)              0.013512      3.407098   1937.502369  2.434401e+03  \n",
              "Status                   0.000000      0.000000      0.000000  1.000000e+00  \n",
              "averagetemps           497.163800    536.317200    572.055800  1.980000e+37  \n",
              "Cycles_until_failure  3324.500000  10246.000000  19172.000000  4.313900e+04  "
            ],
            "text/html": [
              "\n",
              "  <div id=\"df-001a11d3-f40f-4e45-962d-3c130ef90804\">\n",
              "    <div class=\"colab-df-container\">\n",
              "      <div>\n",
              "<style scoped>\n",
              "    .dataframe tbody tr th:only-of-type {\n",
              "        vertical-align: middle;\n",
              "    }\n",
              "\n",
              "    .dataframe tbody tr th {\n",
              "        vertical-align: top;\n",
              "    }\n",
              "\n",
              "    .dataframe thead th {\n",
              "        text-align: right;\n",
              "    }\n",
              "</style>\n",
              "<table border=\"1\" class=\"dataframe\">\n",
              "  <thead>\n",
              "    <tr style=\"text-align: right;\">\n",
              "      <th></th>\n",
              "      <th>count</th>\n",
              "      <th>mean</th>\n",
              "      <th>std</th>\n",
              "      <th>min</th>\n",
              "      <th>25%</th>\n",
              "      <th>50%</th>\n",
              "      <th>75%</th>\n",
              "      <th>max</th>\n",
              "    </tr>\n",
              "  </thead>\n",
              "  <tbody>\n",
              "    <tr>\n",
              "      <th>LV Input (VAC)</th>\n",
              "      <td>1676351.0</td>\n",
              "      <td>1.521491e+02</td>\n",
              "      <td>1.751388e+02</td>\n",
              "      <td>0.008032</td>\n",
              "      <td>0.868823</td>\n",
              "      <td>6.187595</td>\n",
              "      <td>358.768560</td>\n",
              "      <td>3.942105e+02</td>\n",
              "    </tr>\n",
              "    <tr>\n",
              "      <th>HV Input (VAC)</th>\n",
              "      <td>1676351.0</td>\n",
              "      <td>2.703055e+02</td>\n",
              "      <td>1.648690e+02</td>\n",
              "      <td>-0.699985</td>\n",
              "      <td>2.724280</td>\n",
              "      <td>370.568680</td>\n",
              "      <td>373.072970</td>\n",
              "      <td>4.446040e+02</td>\n",
              "    </tr>\n",
              "    <tr>\n",
              "      <th>Current (AAC)</th>\n",
              "      <td>1676351.0</td>\n",
              "      <td>6.425959e+02</td>\n",
              "      <td>1.697676e+03</td>\n",
              "      <td>-10.464776</td>\n",
              "      <td>0.016499</td>\n",
              "      <td>5.448534</td>\n",
              "      <td>5.581219</td>\n",
              "      <td>5.642414e+03</td>\n",
              "    </tr>\n",
              "    <tr>\n",
              "      <th>Leakage (MA)</th>\n",
              "      <td>1676351.0</td>\n",
              "      <td>8.191685e+01</td>\n",
              "      <td>1.857786e+02</td>\n",
              "      <td>0.031336</td>\n",
              "      <td>1.201815</td>\n",
              "      <td>1.303688</td>\n",
              "      <td>1.804098</td>\n",
              "      <td>7.723680e+02</td>\n",
              "    </tr>\n",
              "    <tr>\n",
              "      <th>sn side 10 in (C)</th>\n",
              "      <td>1676351.0</td>\n",
              "      <td>9.449095e+32</td>\n",
              "      <td>3.058516e+35</td>\n",
              "      <td>0.002000</td>\n",
              "      <td>406.346000</td>\n",
              "      <td>444.996000</td>\n",
              "      <td>482.909000</td>\n",
              "      <td>9.900000e+37</td>\n",
              "    </tr>\n",
              "    <tr>\n",
              "      <th>sn side 5 in (C)</th>\n",
              "      <td>1676351.0</td>\n",
              "      <td>4.516761e+02</td>\n",
              "      <td>2.034248e+02</td>\n",
              "      <td>0.001000</td>\n",
              "      <td>496.178000</td>\n",
              "      <td>531.617000</td>\n",
              "      <td>564.365000</td>\n",
              "      <td>1.299615e+03</td>\n",
              "    </tr>\n",
              "    <tr>\n",
              "      <th>center (C)</th>\n",
              "      <td>1676351.0</td>\n",
              "      <td>4.750552e+02</td>\n",
              "      <td>2.512750e+02</td>\n",
              "      <td>0.002000</td>\n",
              "      <td>363.959500</td>\n",
              "      <td>559.564000</td>\n",
              "      <td>594.924500</td>\n",
              "      <td>1.146392e+03</td>\n",
              "    </tr>\n",
              "    <tr>\n",
              "      <th>side 5 in (C)</th>\n",
              "      <td>1676351.0</td>\n",
              "      <td>4.485251e+02</td>\n",
              "      <td>2.369901e+02</td>\n",
              "      <td>0.001000</td>\n",
              "      <td>373.768480</td>\n",
              "      <td>571.442000</td>\n",
              "      <td>602.708000</td>\n",
              "      <td>8.828200e+02</td>\n",
              "    </tr>\n",
              "    <tr>\n",
              "      <th>side 10 in (C)</th>\n",
              "      <td>1676351.0</td>\n",
              "      <td>4.613259e+02</td>\n",
              "      <td>2.182318e+02</td>\n",
              "      <td>-0.723645</td>\n",
              "      <td>370.974070</td>\n",
              "      <td>568.065000</td>\n",
              "      <td>599.716000</td>\n",
              "      <td>6.713870e+02</td>\n",
              "    </tr>\n",
              "    <tr>\n",
              "      <th>HV Out (VAC)</th>\n",
              "      <td>1676351.0</td>\n",
              "      <td>3.991439e+03</td>\n",
              "      <td>2.478785e+03</td>\n",
              "      <td>-10.818493</td>\n",
              "      <td>24.423091</td>\n",
              "      <td>5529.191429</td>\n",
              "      <td>5567.382518</td>\n",
              "      <td>6.637937e+03</td>\n",
              "    </tr>\n",
              "    <tr>\n",
              "      <th>LV Out (VAC)</th>\n",
              "      <td>1676351.0</td>\n",
              "      <td>2.891495e+02</td>\n",
              "      <td>5.325660e+02</td>\n",
              "      <td>-0.114637</td>\n",
              "      <td>0.863054</td>\n",
              "      <td>18.198522</td>\n",
              "      <td>355.133760</td>\n",
              "      <td>2.344658e+03</td>\n",
              "    </tr>\n",
              "    <tr>\n",
              "      <th>Power (WAT)</th>\n",
              "      <td>1676351.0</td>\n",
              "      <td>8.088750e+02</td>\n",
              "      <td>9.650696e+02</td>\n",
              "      <td>-3.770308</td>\n",
              "      <td>0.013512</td>\n",
              "      <td>3.407098</td>\n",
              "      <td>1937.502369</td>\n",
              "      <td>2.434401e+03</td>\n",
              "    </tr>\n",
              "    <tr>\n",
              "      <th>Status</th>\n",
              "      <td>1676351.0</td>\n",
              "      <td>1.193068e-05</td>\n",
              "      <td>3.454061e-03</td>\n",
              "      <td>0.000000</td>\n",
              "      <td>0.000000</td>\n",
              "      <td>0.000000</td>\n",
              "      <td>0.000000</td>\n",
              "      <td>1.000000e+00</td>\n",
              "    </tr>\n",
              "    <tr>\n",
              "      <th>averagetemps</th>\n",
              "      <td>1676351.0</td>\n",
              "      <td>1.889819e+32</td>\n",
              "      <td>6.117032e+34</td>\n",
              "      <td>11.640000</td>\n",
              "      <td>497.163800</td>\n",
              "      <td>536.317200</td>\n",
              "      <td>572.055800</td>\n",
              "      <td>1.980000e+37</td>\n",
              "    </tr>\n",
              "    <tr>\n",
              "      <th>Cycles_until_failure</th>\n",
              "      <td>1676351.0</td>\n",
              "      <td>1.257478e+04</td>\n",
              "      <td>1.072131e+04</td>\n",
              "      <td>0.000000</td>\n",
              "      <td>3324.500000</td>\n",
              "      <td>10246.000000</td>\n",
              "      <td>19172.000000</td>\n",
              "      <td>4.313900e+04</td>\n",
              "    </tr>\n",
              "  </tbody>\n",
              "</table>\n",
              "</div>\n",
              "      <button class=\"colab-df-convert\" onclick=\"convertToInteractive('df-001a11d3-f40f-4e45-962d-3c130ef90804')\"\n",
              "              title=\"Convert this dataframe to an interactive table.\"\n",
              "              style=\"display:none;\">\n",
              "        \n",
              "  <svg xmlns=\"http://www.w3.org/2000/svg\" height=\"24px\"viewBox=\"0 0 24 24\"\n",
              "       width=\"24px\">\n",
              "    <path d=\"M0 0h24v24H0V0z\" fill=\"none\"/>\n",
              "    <path d=\"M18.56 5.44l.94 2.06.94-2.06 2.06-.94-2.06-.94-.94-2.06-.94 2.06-2.06.94zm-11 1L8.5 8.5l.94-2.06 2.06-.94-2.06-.94L8.5 2.5l-.94 2.06-2.06.94zm10 10l.94 2.06.94-2.06 2.06-.94-2.06-.94-.94-2.06-.94 2.06-2.06.94z\"/><path d=\"M17.41 7.96l-1.37-1.37c-.4-.4-.92-.59-1.43-.59-.52 0-1.04.2-1.43.59L10.3 9.45l-7.72 7.72c-.78.78-.78 2.05 0 2.83L4 21.41c.39.39.9.59 1.41.59.51 0 1.02-.2 1.41-.59l7.78-7.78 2.81-2.81c.8-.78.8-2.07 0-2.86zM5.41 20L4 18.59l7.72-7.72 1.47 1.35L5.41 20z\"/>\n",
              "  </svg>\n",
              "      </button>\n",
              "      \n",
              "  <style>\n",
              "    .colab-df-container {\n",
              "      display:flex;\n",
              "      flex-wrap:wrap;\n",
              "      gap: 12px;\n",
              "    }\n",
              "\n",
              "    .colab-df-convert {\n",
              "      background-color: #E8F0FE;\n",
              "      border: none;\n",
              "      border-radius: 50%;\n",
              "      cursor: pointer;\n",
              "      display: none;\n",
              "      fill: #1967D2;\n",
              "      height: 32px;\n",
              "      padding: 0 0 0 0;\n",
              "      width: 32px;\n",
              "    }\n",
              "\n",
              "    .colab-df-convert:hover {\n",
              "      background-color: #E2EBFA;\n",
              "      box-shadow: 0px 1px 2px rgba(60, 64, 67, 0.3), 0px 1px 3px 1px rgba(60, 64, 67, 0.15);\n",
              "      fill: #174EA6;\n",
              "    }\n",
              "\n",
              "    [theme=dark] .colab-df-convert {\n",
              "      background-color: #3B4455;\n",
              "      fill: #D2E3FC;\n",
              "    }\n",
              "\n",
              "    [theme=dark] .colab-df-convert:hover {\n",
              "      background-color: #434B5C;\n",
              "      box-shadow: 0px 1px 3px 1px rgba(0, 0, 0, 0.15);\n",
              "      filter: drop-shadow(0px 1px 2px rgba(0, 0, 0, 0.3));\n",
              "      fill: #FFFFFF;\n",
              "    }\n",
              "  </style>\n",
              "\n",
              "      <script>\n",
              "        const buttonEl =\n",
              "          document.querySelector('#df-001a11d3-f40f-4e45-962d-3c130ef90804 button.colab-df-convert');\n",
              "        buttonEl.style.display =\n",
              "          google.colab.kernel.accessAllowed ? 'block' : 'none';\n",
              "\n",
              "        async function convertToInteractive(key) {\n",
              "          const element = document.querySelector('#df-001a11d3-f40f-4e45-962d-3c130ef90804');\n",
              "          const dataTable =\n",
              "            await google.colab.kernel.invokeFunction('convertToInteractive',\n",
              "                                                     [key], {});\n",
              "          if (!dataTable) return;\n",
              "\n",
              "          const docLinkHtml = 'Like what you see? Visit the ' +\n",
              "            '<a target=\"_blank\" href=https://colab.research.google.com/notebooks/data_table.ipynb>data table notebook</a>'\n",
              "            + ' to learn more about interactive tables.';\n",
              "          element.innerHTML = '';\n",
              "          dataTable['output_type'] = 'display_data';\n",
              "          await google.colab.output.renderOutput(dataTable, element);\n",
              "          const docLink = document.createElement('div');\n",
              "          docLink.innerHTML = docLinkHtml;\n",
              "          element.appendChild(docLink);\n",
              "        }\n",
              "      </script>\n",
              "    </div>\n",
              "  </div>\n",
              "  "
            ]
          },
          "metadata": {},
          "execution_count": 34
        }
      ]
    },
    {
      "cell_type": "code",
      "source": [
        "import tensorflow.keras.backend as K\n",
        "def Lawrence_accuracy(y_true, y_pred):\n",
        "    # print('first')\n",
        "    y = tf.convert_to_tensor(100.0)\n",
        "    z = tf.convert_to_tensor(-100.0)\n",
        "    # print('second')\n",
        "    upper = tf.math.add(y_true,y)\n",
        "    lower = tf.math.add(y_true,z)\n",
        "    # print('third')\n",
        "    upperthreshold = tf.cast(upper, tf.float32)\n",
        "    lowerthreshold = tf.cast(lower, tf.float32)\n",
        "    #print('fourth')\n",
        "    # print(upperthreshold)\n",
        "    # print(lowerthreshold)\n",
        "    # print('fifth')\n",
        "    test1 = tf.math.less(y_pred, upperthreshold)\n",
        "    # print('sixth')\n",
        "    test2 = tf.math.greater(y_pred, lowerthreshold)\n",
        "    # print('seventh')\n",
        "    accuracy = tf.cast(tf.equal(test1, test2), tf.float32)\n",
        "    # print('eighth')\n",
        "    return accuracy\n"
      ],
      "metadata": {
        "id": "qXWvqapQqR_G"
      },
      "execution_count": null,
      "outputs": []
    },
    {
      "cell_type": "code",
      "source": [
        "def accuracy(y_true, y_pred):\n",
        "  [y_pred, y_true], _ = \\\n",
        "      metrics_utils.ragged_assert_compatible_and_get_flat_values(\n",
        "          [y_pred, y_true])\n",
        "  y_true.shape.assert_is_compatible_with(y_pred.shape)\n",
        "  if y_true.dtype != y_pred.dtype:\n",
        "    y_pred = tf.cast(y_pred, y_true.dtype)\n",
        "  y = tf.convert_to_tensor(100.0)\n",
        "  z = tf.convert_to_tensor(-100.0)\n",
        "  upperthreshold = tf.cast(upper, tf.float32)\n",
        "  lowerthreshold = tf.cast(lower, tf.float32)\n",
        "  test1 = tf.math.less(y_pred, upperthreshold)\n",
        "  test2 = tf.math.greater(y_pred, lowerthreshold)\n",
        "  return tf.cast(tf.equal(test1, test2), backend.floatx())"
      ],
      "metadata": {
        "id": "bJGTpt171Ix3"
      },
      "execution_count": null,
      "outputs": []
    },
    {
      "cell_type": "code",
      "source": [
        "num1 = tf.constant(5, tf.float32)\n",
        "num2 = tf.constant(100, tf.float32)\n",
        "a = Lawrence_accuracy(num1, num2)\n",
        "print(a, type(a))"
      ],
      "metadata": {
        "colab": {
          "base_uri": "https://localhost:8080/"
        },
        "id": "RtZ_TzeSuFo6",
        "outputId": "1f14fe66-f747-4bfa-e338-fb41a1c77ae9"
      },
      "execution_count": null,
      "outputs": [
        {
          "output_type": "stream",
          "name": "stdout",
          "text": [
            "tf.Tensor(1.0, shape=(), dtype=float32) <class 'tensorflow.python.framework.ops.EagerTensor'>\n"
          ]
        }
      ]
    },
    {
      "cell_type": "code",
      "source": [
        "normalizer = tf.keras.layers.Normalization(axis=-1)\n",
        "normalizer.adapt(np.array(train_features))\n"
      ],
      "metadata": {
        "id": "eqnl039I4nsQ"
      },
      "execution_count": null,
      "outputs": []
    },
    {
      "cell_type": "code",
      "source": [
        "print(train_features[:100])"
      ],
      "metadata": {
        "colab": {
          "base_uri": "https://localhost:8080/"
        },
        "id": "nLMndyJ5_zur",
        "outputId": "c26e358a-246f-4013-c192-0b8ed34032ec"
      },
      "execution_count": null,
      "outputs": [
        {
          "output_type": "stream",
          "name": "stdout",
          "text": [
            "[[1.36942900e+00]\n",
            " [7.03450000e-02]\n",
            " [1.35472050e+00]\n",
            " [1.40971750e+00]\n",
            " [1.35772600e+00]\n",
            " [1.21620450e+00]\n",
            " [1.44252400e+00]\n",
            " [1.17872950e+00]\n",
            " [1.27452500e-01]\n",
            " [1.30854850e+00]\n",
            " [1.36616750e+00]\n",
            " [2.35690000e+01]\n",
            " [1.28520650e+00]\n",
            " [1.87764050e+00]\n",
            " [1.40332250e+00]\n",
            " [1.43958200e+00]\n",
            " [1.25412700e+00]\n",
            " [5.07125000e-02]\n",
            " [1.16082350e+00]\n",
            " [1.21064050e+00]\n",
            " [1.24255200e+00]\n",
            " [5.18058000e+02]\n",
            " [1.32076300e+00]\n",
            " [1.21160000e+00]\n",
            " [6.47815000e-02]\n",
            " [1.41003700e+00]\n",
            " [1.28200900e+00]\n",
            " [2.28590000e+01]\n",
            " [1.23769150e+00]\n",
            " [1.20808250e+00]\n",
            " [6.26070000e-02]\n",
            " [1.56716250e+00]\n",
            " [1.24856300e+00]\n",
            " [1.31129800e+00]\n",
            " [1.13601100e+00]\n",
            " [1.41118850e+00]\n",
            " [1.24172050e+00]\n",
            " [1.37096350e+00]\n",
            " [1.26519000e+00]\n",
            " [1.31347250e+00]\n",
            " [8.13445000e-02]\n",
            " [2.33700000e+01]\n",
            " [1.24152850e+00]\n",
            " [5.92923000e+02]\n",
            " [5.13520000e-02]\n",
            " [1.28149750e+00]\n",
            " [1.29940350e+00]\n",
            " [6.19655000e+02]\n",
            " [8.54375000e-02]\n",
            " [1.94304575e+00]\n",
            " [1.18263050e+00]\n",
            " [1.21505350e+00]\n",
            " [1.44476200e+00]\n",
            " [1.22598900e+00]\n",
            " [1.38337000e+00]\n",
            " [1.18250250e+00]\n",
            " [1.37524850e+00]\n",
            " [1.94812301e+00]\n",
            " [1.22458200e+00]\n",
            " [7.28390000e-02]\n",
            " [3.65664022e+02]\n",
            " [5.70946000e+02]\n",
            " [8.57570000e-02]\n",
            " [1.40300250e+00]\n",
            " [1.17860150e+00]\n",
            " [1.36789400e+00]\n",
            " [5.75419000e+02]\n",
            " [6.97055000e-02]\n",
            " [5.40970000e+02]\n",
            " [3.71074861e+02]\n",
            " [1.23372650e+00]\n",
            " [1.31123450e+00]\n",
            " [5.69558000e+02]\n",
            " [6.48455000e-02]\n",
            " [1.21390200e+00]\n",
            " [1.41425800e+00]\n",
            " [3.67164625e+02]\n",
            " [3.66731072e+02]\n",
            " [1.16926500e+00]\n",
            " [1.21780300e+00]\n",
            " [3.25505000e-02]\n",
            " [1.41470550e+00]\n",
            " [1.22554100e+00]\n",
            " [3.33820000e-02]\n",
            " [1.27778850e+00]\n",
            " [1.21454150e+00]\n",
            " [1.20584450e+00]\n",
            " [1.33348900e+00]\n",
            " [1.33687850e+00]\n",
            " [3.66042349e+02]\n",
            " [1.23033750e+00]\n",
            " [1.36207450e+00]\n",
            " [1.19925750e+00]\n",
            " [1.35830150e+00]\n",
            " [3.65510400e+02]\n",
            " [8.60130000e-02]\n",
            " [6.87465000e-02]\n",
            " [1.23411050e+00]\n",
            " [2.22800000e+01]\n",
            " [1.32172200e+00]]\n"
          ]
        }
      ]
    },
    {
      "cell_type": "code",
      "source": [
        "def build_and_compile_model():\n",
        "    model = keras.Sequential([\n",
        "    layers.Dense(64, input_shape = (16,), activation='relu'),\n",
        "    layers.Dense(64, activation='relu'),\n",
        "    layers.Dense(1)])\n",
        "\n",
        "    model.compile(loss='mean_absolute_error', optimizer=tf.keras.optimizers.Adam(0.001), metrics = ['accuracy'])\n",
        "\n",
        "    return model"
      ],
      "metadata": {
        "id": "SEgSgLKbfr4K"
      },
      "execution_count": null,
      "outputs": []
    },
    {
      "cell_type": "code",
      "source": [
        "model1 = build_and_compile_model()\n",
        "model1.summary()\n",
        "model1.output_shape"
      ],
      "metadata": {
        "colab": {
          "base_uri": "https://localhost:8080/"
        },
        "id": "LQZtC1Dqjuil",
        "outputId": "03b5f2f0-834c-4085-bc24-092caa4d18fc"
      },
      "execution_count": null,
      "outputs": [
        {
          "output_type": "stream",
          "name": "stdout",
          "text": [
            "Model: \"sequential_5\"\n",
            "_________________________________________________________________\n",
            " Layer (type)                Output Shape              Param #   \n",
            "=================================================================\n",
            " dense_15 (Dense)            (None, 64)                1088      \n",
            "                                                                 \n",
            " dense_16 (Dense)            (None, 64)                4160      \n",
            "                                                                 \n",
            " dense_17 (Dense)            (None, 1)                 65        \n",
            "                                                                 \n",
            "=================================================================\n",
            "Total params: 5,313\n",
            "Trainable params: 5,313\n",
            "Non-trainable params: 0\n",
            "_________________________________________________________________\n"
          ]
        },
        {
          "output_type": "execute_result",
          "data": {
            "text/plain": [
              "(None, 1)"
            ]
          },
          "metadata": {},
          "execution_count": 27
        }
      ]
    },
    {
      "cell_type": "code",
      "source": [
        "dnn = model1.fit(\n",
        "    train_features,\n",
        "    train_labels,\n",
        "    validation_split=0.2,\n",
        "    verbose=1, epochs=1)"
      ],
      "metadata": {
        "colab": {
          "base_uri": "https://localhost:8080/",
          "height": 818
        },
        "id": "eFBmj0zpk79D",
        "outputId": "24e9e454-d152-4f7d-fb89-6ffdadd24a45"
      },
      "execution_count": null,
      "outputs": [
        {
          "output_type": "stream",
          "name": "stdout",
          "text": [
            "WARNING:tensorflow:Model was constructed with shape (None, 16) for input KerasTensor(type_spec=TensorSpec(shape=(None, 16), dtype=tf.float32, name='dense_15_input'), name='dense_15_input', description=\"created by layer 'dense_15_input'\"), but it was called on an input with incompatible shape (None, 1).\n"
          ]
        },
        {
          "output_type": "error",
          "ename": "ValueError",
          "evalue": "ignored",
          "traceback": [
            "\u001b[0;31m---------------------------------------------------------------------------\u001b[0m",
            "\u001b[0;31mValueError\u001b[0m                                Traceback (most recent call last)",
            "\u001b[0;32m<ipython-input-28-a7ae7d1cbd38>\u001b[0m in \u001b[0;36m<module>\u001b[0;34m()\u001b[0m\n\u001b[1;32m      3\u001b[0m     \u001b[0mtrain_labels\u001b[0m\u001b[0;34m,\u001b[0m\u001b[0;34m\u001b[0m\u001b[0;34m\u001b[0m\u001b[0m\n\u001b[1;32m      4\u001b[0m     \u001b[0mvalidation_split\u001b[0m\u001b[0;34m=\u001b[0m\u001b[0;36m0.2\u001b[0m\u001b[0;34m,\u001b[0m\u001b[0;34m\u001b[0m\u001b[0;34m\u001b[0m\u001b[0m\n\u001b[0;32m----> 5\u001b[0;31m     verbose=1, epochs=1)\n\u001b[0m",
            "\u001b[0;32m/usr/local/lib/python3.7/dist-packages/keras/utils/traceback_utils.py\u001b[0m in \u001b[0;36merror_handler\u001b[0;34m(*args, **kwargs)\u001b[0m\n\u001b[1;32m     65\u001b[0m     \u001b[0;32mexcept\u001b[0m \u001b[0mException\u001b[0m \u001b[0;32mas\u001b[0m \u001b[0me\u001b[0m\u001b[0;34m:\u001b[0m  \u001b[0;31m# pylint: disable=broad-except\u001b[0m\u001b[0;34m\u001b[0m\u001b[0;34m\u001b[0m\u001b[0m\n\u001b[1;32m     66\u001b[0m       \u001b[0mfiltered_tb\u001b[0m \u001b[0;34m=\u001b[0m \u001b[0m_process_traceback_frames\u001b[0m\u001b[0;34m(\u001b[0m\u001b[0me\u001b[0m\u001b[0;34m.\u001b[0m\u001b[0m__traceback__\u001b[0m\u001b[0;34m)\u001b[0m\u001b[0;34m\u001b[0m\u001b[0;34m\u001b[0m\u001b[0m\n\u001b[0;32m---> 67\u001b[0;31m       \u001b[0;32mraise\u001b[0m \u001b[0me\u001b[0m\u001b[0;34m.\u001b[0m\u001b[0mwith_traceback\u001b[0m\u001b[0;34m(\u001b[0m\u001b[0mfiltered_tb\u001b[0m\u001b[0;34m)\u001b[0m \u001b[0;32mfrom\u001b[0m \u001b[0;32mNone\u001b[0m\u001b[0;34m\u001b[0m\u001b[0;34m\u001b[0m\u001b[0m\n\u001b[0m\u001b[1;32m     68\u001b[0m     \u001b[0;32mfinally\u001b[0m\u001b[0;34m:\u001b[0m\u001b[0;34m\u001b[0m\u001b[0;34m\u001b[0m\u001b[0m\n\u001b[1;32m     69\u001b[0m       \u001b[0;32mdel\u001b[0m \u001b[0mfiltered_tb\u001b[0m\u001b[0;34m\u001b[0m\u001b[0;34m\u001b[0m\u001b[0m\n",
            "\u001b[0;32m/usr/local/lib/python3.7/dist-packages/tensorflow/python/framework/func_graph.py\u001b[0m in \u001b[0;36mautograph_handler\u001b[0;34m(*args, **kwargs)\u001b[0m\n\u001b[1;32m   1145\u001b[0m           \u001b[0;32mexcept\u001b[0m \u001b[0mException\u001b[0m \u001b[0;32mas\u001b[0m \u001b[0me\u001b[0m\u001b[0;34m:\u001b[0m  \u001b[0;31m# pylint:disable=broad-except\u001b[0m\u001b[0;34m\u001b[0m\u001b[0;34m\u001b[0m\u001b[0m\n\u001b[1;32m   1146\u001b[0m             \u001b[0;32mif\u001b[0m \u001b[0mhasattr\u001b[0m\u001b[0;34m(\u001b[0m\u001b[0me\u001b[0m\u001b[0;34m,\u001b[0m \u001b[0;34m\"ag_error_metadata\"\u001b[0m\u001b[0;34m)\u001b[0m\u001b[0;34m:\u001b[0m\u001b[0;34m\u001b[0m\u001b[0;34m\u001b[0m\u001b[0m\n\u001b[0;32m-> 1147\u001b[0;31m               \u001b[0;32mraise\u001b[0m \u001b[0me\u001b[0m\u001b[0;34m.\u001b[0m\u001b[0mag_error_metadata\u001b[0m\u001b[0;34m.\u001b[0m\u001b[0mto_exception\u001b[0m\u001b[0;34m(\u001b[0m\u001b[0me\u001b[0m\u001b[0;34m)\u001b[0m\u001b[0;34m\u001b[0m\u001b[0;34m\u001b[0m\u001b[0m\n\u001b[0m\u001b[1;32m   1148\u001b[0m             \u001b[0;32melse\u001b[0m\u001b[0;34m:\u001b[0m\u001b[0;34m\u001b[0m\u001b[0;34m\u001b[0m\u001b[0m\n\u001b[1;32m   1149\u001b[0m               \u001b[0;32mraise\u001b[0m\u001b[0;34m\u001b[0m\u001b[0;34m\u001b[0m\u001b[0m\n",
            "\u001b[0;31mValueError\u001b[0m: in user code:\n\n    File \"/usr/local/lib/python3.7/dist-packages/keras/engine/training.py\", line 1021, in train_function  *\n        return step_function(self, iterator)\n    File \"/usr/local/lib/python3.7/dist-packages/keras/engine/training.py\", line 1010, in step_function  **\n        outputs = model.distribute_strategy.run(run_step, args=(data,))\n    File \"/usr/local/lib/python3.7/dist-packages/keras/engine/training.py\", line 1000, in run_step  **\n        outputs = model.train_step(data)\n    File \"/usr/local/lib/python3.7/dist-packages/keras/engine/training.py\", line 859, in train_step\n        y_pred = self(x, training=True)\n    File \"/usr/local/lib/python3.7/dist-packages/keras/utils/traceback_utils.py\", line 67, in error_handler\n        raise e.with_traceback(filtered_tb) from None\n    File \"/usr/local/lib/python3.7/dist-packages/keras/engine/input_spec.py\", line 249, in assert_input_compatibility\n        f'Input {input_index} of layer \"{layer_name}\" is '\n\n    ValueError: Exception encountered when calling layer \"sequential_5\" (type Sequential).\n    \n    Input 0 of layer \"dense_15\" is incompatible with the layer: expected axis -1 of input shape to have value 16, but received input with shape (None, 1)\n    \n    Call arguments received:\n      • inputs=tf.Tensor(shape=(None, 1), dtype=float32)\n      • training=True\n      • mask=None\n"
          ]
        }
      ]
    },
    {
      "cell_type": "code",
      "source": [
        "def plot_loss(history):\n",
        "  plt.plot(history.history['loss'], label='loss')\n",
        "  plt.plot(history.history['val_loss'], label='val_loss')\n",
        "  plt.ylim([0, 10])\n",
        "  plt.xlabel('Epoch')\n",
        "  plt.ylabel('Error [MPG]')\n",
        "  plt.legend()\n",
        "  plt.grid(True)"
      ],
      "metadata": {
        "id": "DVQ-3bHN57PD"
      },
      "execution_count": null,
      "outputs": []
    },
    {
      "cell_type": "code",
      "source": [
        "plot_loss(dnn)"
      ],
      "metadata": {
        "colab": {
          "base_uri": "https://localhost:8080/",
          "height": 283
        },
        "id": "x0iXWebg6C1f",
        "outputId": "07019c32-e83c-4833-d9ef-2e3db6d773d2"
      },
      "execution_count": null,
      "outputs": [
        {
          "output_type": "display_data",
          "data": {
            "text/plain": [
              "<Figure size 432x288 with 1 Axes>"
            ],
            "image/png": "[encoded data removed]"
          },
          "metadata": {
            "needs_background": "light"
          }
        }
      ]
    },
    {
      "cell_type": "code",
      "source": [
        "predictedvalues = model1.predict(test_features).flatten()\n",
        "count = 0\n",
        "for i in range(len(test_labels)):\n",
        "  if predictedvalues[i]> (test_labels[i] - 1000) and predictedvalues[i] < (test_labels[i] +1000):\n",
        "    count +=1\n",
        "print(count/len(test_labels))\n",
        "# a = pd.DataFrame()\n",
        "# a['test_labels'] = test_labels\n",
        "# a['pred_labels'] = predictedvalues\n",
        "# a.to_csv('/content/gdrive/MyDrive/firstdeeplearning.csv')"
      ],
      "metadata": {
        "colab": {
          "base_uri": "https://localhost:8080/"
        },
        "id": "DVs2GXVanZ_h",
        "outputId": "b0c8b859-c3ff-44ae-e15f-1b58cfa1dcf2"
      },
      "execution_count": null,
      "outputs": [
        {
          "output_type": "stream",
          "name": "stdout",
          "text": [
            "0.0\n"
          ]
        }
      ]
    },
    {
      "cell_type": "code",
      "source": [
        "print(predictedvalues)"
      ],
      "metadata": {
        "colab": {
          "base_uri": "https://localhost:8080/"
        },
        "id": "SnssctHq0pdD",
        "outputId": "cc51dc34-d6ad-4d71-ae0a-b62eb8b9cc76"
      },
      "execution_count": null,
      "outputs": [
        {
          "output_type": "stream",
          "name": "stdout",
          "text": [
            "[nan nan nan ... nan nan nan]\n"
          ]
        }
      ]
    },
    {
      "cell_type": "markdown",
      "source": [
        "https://www.tensorflow.org/tutorials/keras/regression#regression_using_a_dnn_and_multiple_inputs "
      ],
      "metadata": {
        "id": "qYdVIFUNopGE"
      }
    }
  ]
}